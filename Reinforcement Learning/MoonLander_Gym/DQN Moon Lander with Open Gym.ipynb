{
 "cells": [
  {
   "cell_type": "markdown",
   "metadata": {},
   "source": [
    "The --'temp'-- file module generates temporary files and directories that can be used as a \n",
    "temporary storage area for data files.\n",
    "\n",
    "The --'deque'--  command, from the collections module, creates a double-ended queue, practically \n",
    "a list where you can append items at the start or at the end. Interestingly, \n",
    "it can be set to a predefined size. When full, older items are discarded in order \n",
    "to make the place for new entries.\n",
    "\n",
    "We will structure this project using a series of classes representing:\n",
    "\n",
    "## the agent, \n",
    "\n",
    "## the agent's brain (our DQN), \n",
    "\n",
    "## the agent's memory, \n",
    "\n",
    "# and the environment \n",
    "\n",
    "\n",
    "which is provided by OpenAI Gym but it needs to be correctly connected to the agent. \n",
    "It is necessary to code a class for this"
   ]
  },
  {
   "cell_type": "code",
   "execution_count": 1,
   "metadata": {},
   "outputs": [],
   "source": [
    "import gym\n",
    "import os\n",
    "from gym import wrappers\n",
    "import numpy as np\n",
    "import random, \n",
    "import tempfile \n",
    "from collections import deque\n",
    "import tensorflow as tf"
   ]
  },
  {
   "cell_type": "markdown",
   "metadata": {},
   "source": [
    "# Defining the AI brain\n",
    "\n",
    "The first step in the project is to create a Brain class containing all the neural network code in order to compute a Q-value approximation. The class will contain the necessary initialization, the code for creating a suitable TensorFlow graph for the purpose, a simple neural network (not a complex deep learning architecture but a simple, working network for our project—you can replace it with more complex architectures), and finally, methods for fit and predict operations.\n",
    "\n",
    "we also have to set the scope. In order to define the scope a string will help us to keep separate networks created for different purposes, and in our project, we have two, one for processing the next reward and one for guessing the final reward."
   ]
  },
  {
   "cell_type": "code",
   "execution_count": 2,
   "metadata": {},
   "outputs": [],
   "source": [
    "class Brain:\n",
    "    \"\"\"\n",
    "    A Q-Value approximation obtained using a neural network.\n",
    "    This network is used for both the Q-Network and the Target Network.\n",
    "    \"\"\"\n",
    "    def __init__(self, nS, nA, scope=\"estimator\",\n",
    "                 learning_rate=0.0001,\n",
    "                 neural_architecture=None,\n",
    "                 global_step=None, summaries_dir=None):\n",
    "        \n",
    "        self.nS = nS # the size of the state inputs\n",
    "        self.nA = nA # the size of the action output\n",
    "        self.global_step = global_step\n",
    "        self.scope = scope\n",
    "        self.learning_rate = learning_rate\n",
    "        \n",
    "        if not neural_architecture:\n",
    "            neural_architecture = self.two_layers_network\n",
    "        \n",
    "        # Writes Tensorboard summaries to disk\n",
    "        with tf.variable_scope(scope):\n",
    "            # Build the graph\n",
    "            self.create_network(network=neural_architecture,learning_rate=self.learning_rate)\n",
    "            if summaries_dir:\n",
    "                summary_dir = os.path.join(summaries_dir,\"summaries_%s\" % scope)\n",
    "                if not os.path.exists(summary_dir):\n",
    "                    os.makedirs(summary_dir)\n",
    "                # initializes an event file in a target directory (summary_dir)\n",
    "                # where we store the key measures of the learning process\n",
    "                # The handle is kept in self.summary_writer, which we will be using later \n",
    "                # for storing the measures we are interested in representing during and after the training \n",
    "                # for monitoring and debugging what has been learned.\n",
    "                self.summary_writer = tf.summary.FileWriter(summary_dir) \n",
    "            else:\n",
    "                self.summary_writer = None\n",
    "                \n",
    "                "
   ]
  },
  {
   "cell_type": "markdown",
   "metadata": {},
   "source": [
    "#  default neural network\n",
    "\n",
    "As input, it takes the input layer and the respective size of the hidden layers that we will be using. The input layer  is defined by the state that we are using, which could be a vector of measurements, as in our case, or an image, as in the original DQN paper) \n",
    "\n",
    "Such layers are simply defined using the higher level ops offered by the Layers module of TensorFlow (https://www.tensorflow.org/api_guides/python/contrib.layers). Our choice goes for the vanilla fully_connected, using the ReLU (rectifier) activation function for the two hidden layers and the linear activation of the output layer. \n"
   ]
  },
  {
   "cell_type": "code",
   "execution_count": 6,
   "metadata": {},
   "outputs": [],
   "source": [
    "    def two_layers_network(self, x, layer_1_nodes=32, layer_2_nodes=32):\n",
    "\n",
    "        layer_1 = tf.contrib.layers.fully_connected(x, layer_1_nodes, activation_fn=tf.nn.relu)\n",
    "        layer_2 = tf.contrib.layers.fully_connected(layer_1, layer_2_nodes,activation_fn=tf.nn.relu)\n",
    "        return tf.contrib.layers.fully_connected(layer_2, self.nA, activation_fn=None)\n"
   ]
  },
  {
   "cell_type": "markdown",
   "metadata": {},
   "source": [
    "Also, a few summaries are recorded for TensorBoard: \n",
    "    \n",
    "1.- The average loss of the batch, in order to keep track of the fit during training\n",
    "2.- The maximum predicted reward in the batch, in order to keep track of extreme positive predictions, \n",
    "    pointing out the best-winning moves\n",
    "3.- The average predicted reward in the batch, in order to keep track of the general tendency \n",
    "    of predicting good moves    "
   ]
  },
  {
   "cell_type": "markdown",
   "metadata": {},
   "source": [
    "#  create_network\n",
    "\n",
    "combines input, neural network, loss, and optimization. The loss is simply created by taking the difference between the original reward and the estimated result, squaring it, and taking the average through all the examples present in the batch being learned. The loss is minimized using an Adam optimizer.\n"
   ]
  },
  {
   "cell_type": "code",
   "execution_count": 10,
   "metadata": {},
   "outputs": [],
   "source": [
    "    def create_network(self, network, learning_rate=0.0001):\n",
    "\n",
    "        # Placeholders for states input\n",
    "        self.X = tf.placeholder(shape=[None, self.nS],dtype=tf.float32, name=\"X\")\n",
    "        \n",
    "        # The r target value\n",
    "        self.y = tf.placeholder(shape=[None, self.nA],dtype=tf.float32, name=\"y\")\n",
    "        \n",
    "        # Applying the choosen network\n",
    "        self.predictions = network(self.X)\n",
    "        \n",
    "        # Calculating the loss\n",
    "        sq_diff = tf.squared_difference(self.y, self.predictions)\n",
    "        self.loss = tf.reduce_mean(sq_diff)\n",
    "        \n",
    "        # Optimizing parameters using the Adam optimizer\n",
    "        self.train_op = tf.contrib.layers.optimize_loss(self.loss, \n",
    "                        global_step=tf.train.get_global_step(),                                      \n",
    "                        learning_rate=learning_rate, \n",
    "                        optimizer='Adam')\n",
    "        \n",
    "        # Recording summaries for Tensorboard\n",
    "        self.summaries = tf.summary.merge([\n",
    "            tf.summary.scalar(\"loss\", self.loss),\n",
    "            tf.summary.scalar(\"max_q_value\", \n",
    "                             tf.reduce_max(self.predictions)),\n",
    "            tf.summary.scalar(\"mean_q_value\", \n",
    "                             tf.reduce_mean(self.predictions))])\n",
    "        "
   ]
  },
  {
   "cell_type": "markdown",
   "metadata": {},
   "source": [
    "The class is completed by a predict and a fit method. \n",
    "\n",
    "The fit method takes as input the state matrix, s, as the input batch and the vector of reward r as the outcome.\n",
    "\n",
    "It also takes into account how many epochs you want to train (in the original papers it is suggested using just a single epoch per batch in order to avoid overfitting too much to each batch of observations). \n",
    "\n",
    "Then, in the present session, the input is fit with respect to the outcome and summaries (previously defined as we created the network). "
   ]
  },
  {
   "cell_type": "code",
   "execution_count": 11,
   "metadata": {},
   "outputs": [],
   "source": [
    "    def predict(self, sess, s):\n",
    "        \"\"\"\n",
    "        Predicting q values for actions\n",
    "        \"\"\"\n",
    "        return sess.run(self.predictions, {self.X: s})\n",
    "\n",
    "    def fit(self, sess, s, r, epochs=1):\n",
    "        \"\"\"\n",
    "        Updating the Q* function estimator\n",
    "        \"\"\"\n",
    "        feed_dict = {self.X: s, self.y: r}\n",
    "        for epoch in range(epochs):\n",
    "            res = sess.run([self.summaries, self.train_op, self.loss,\n",
    "                            self.predictions,tf.train.get_global_step()],feed_dict)\n",
    "            \n",
    "            summaries, train_op, loss, predictions, self.global_step = res\n",
    "\n",
    "        if self.summary_writer:\n",
    "            self.summary_writer.add_summary(summaries, self.global_step)"
   ]
  },
  {
   "cell_type": "markdown",
   "metadata": {},
   "source": [
    "# Creating memory for experience replay\n",
    "\n",
    "After defining the brain (the TensorFlow neural network), our next step is to define the memory, that is the storage for data that will power the learning process of the DQN network. At each training episode each step, made of a state and an action, is recorded together with the consequent state and the final reward of the episode (something that will be known only when the episode completes).\n",
    "\n",
    "Adding a flag telling if the observation is a terminal one or not completes the set of recorded information. The idea is to connect certain moves not just to the immediate reward (which could be null or modest) but the ending reward, thus associating every move in that session to it.\n",
    "\n",
    "The class memory is simply a queue of a certain size, which is then filled with information on the previous game experiences, and it is easy to sample and extract from it. Given its fixed size, it is important that older examples are pushed out of the queue, thus allowing the available examples to always be among the last ones.\n",
    "\n",
    "The class comprises an initialization, where the data structure takes origin and its size is fixed, the len method (so we know whether the memory is full or not, which is useful, for instance, in order to wait for any training at least until we have plenty of them for better randomization and variety for learning), add_memory for recording in the queue, and recall_memory for recovering all the data from it in a list format:\n",
    "\n"
   ]
  },
  {
   "cell_type": "code",
   "execution_count": 12,
   "metadata": {},
   "outputs": [],
   "source": [
    "class Memory:\n",
    "    \"\"\"\n",
    "    A memory class based on deque, a list-like container with \n",
    "    fast appends and pops on either end (from the collections \n",
    "    package)\n",
    "    \"\"\"\n",
    "    def __init__(self, memory_size=5000):\n",
    "        self.memory = deque(maxlen=memory_size)\n",
    "\n",
    "    def __len__(self):\n",
    "        return len(self.memory)\n",
    "\n",
    "    def add_memory(self, s, a, r, s_, status):\n",
    "        \"\"\"\n",
    "        Memorizing the tuple (s a r s_) plus the Boolean flag status,\n",
    "        reminding if we are at a terminal move or not\n",
    "        \"\"\"\n",
    "        self.memory.append((s, a, r, s_, status))\n",
    "\n",
    "    def recall_memories(self):\n",
    "        \"\"\"\n",
    "        Returning all the memorized data at once\n",
    "        \"\"\"\n",
    "        return list(self.memory)\n",
    "    "
   ]
  },
  {
   "cell_type": "markdown",
   "metadata": {},
   "source": [
    "# Creating the agent\n",
    "\n",
    "The next class is the agent, which has the role of initializing and maintaining the brain (providing the Q-value function approximation) and the memory. It is the agent, moreover, that acts in the environment. Its initialization sets a series of parameters that are mostly fixed given our experience in optimizing the learning for the Lunar Lander game. They can be explicitly changed, though, when the agent is first initialized:\n",
    "\n",
    "1.- epsilon = 1.0 is the initial value in the exploration-exploitation parameter. The 1.0 value forces the agent to completely rely on exploration, that is, random moving.\n",
    "\n",
    "2.- epsilon_min = 0.01 sets the minimum value of the exploration-exploitation parameter: a value of 0.01 means that there is a 1% chance that the landing pod will move randomly and not based on Q function feedback. This always provides a minimum chance to find another optimal way of completing the game, without compromising it.\n",
    "\n",
    "3.- epsilon_decay = 0.9994 is the decay that regulates the speed the epsilon diminishes toward the minimum. In this setting, it is tuned to reach a minimum value after about 5,000 episodes, which on average should provide the algorithm at least 2 million examples to learn from.\n",
    "\n",
    "4.- gamma = 0.99 is the reward discount factor with which the Q-value estimation weights the future reward with respect to the present reward, thus allowing the algorithm to be short- or long-sighted, according to what is best in the kind of game being played (in Lunar Lander it is better to be long-sighted because the actual reward will be experienced only when the landing pod lands on the Moon).\n",
    "\n",
    "5.- learning_rate = 0.0001 is the learning rate for the Adam optimizer to learn the batch of examples.\n",
    "\n",
    "6.- epochs = 1 is the training epochs used by the neural network in order to fit the batch set of examples.\n",
    "\n",
    "7.- batch_size = 32 is the size of the batch examples.\n",
    "\n",
    "8.- memory = Memory(memory_size=250000) is the size of the memory queue.\n"
   ]
  },
  {
   "cell_type": "code",
   "execution_count": 13,
   "metadata": {},
   "outputs": [],
   "source": [
    "class Agent:\n",
    "    def __init__(self, nS, nA, experiment_dir):\n",
    "        # Initializing\n",
    "        self.nS = nS\n",
    "        self.nA = nA\n",
    "        self.epsilon = 1.0  # exploration-exploitation ratio\n",
    "        self.epsilon_min = 0.01\n",
    "        self.epsilon_decay = 0.9994\n",
    "        self.gamma = 0.99  # reward decay\n",
    "        self.learning_rate = 0.0001\n",
    "        self.epochs = 1  # training epochs\n",
    "        self.batch_size = 32\n",
    "        self.memory = Memory(memory_size=250000)\n",
    "\n",
    "        # Creating estimators\n",
    "        self.experiment_dir =os.path.abspath(\"./experiments/{}\".format(experiment_dir))\n",
    "        \n",
    "        self.global_step = tf.Variable(0, name='global_step', trainable=False)\n",
    "        \n",
    "        self.model = Brain(nS=self.nS, nA=self.nA, scope=\"q\",\n",
    "                           learning_rate=self.learning_rate,\n",
    "                           global_step=self.global_step,\n",
    "                           summaries_dir=self.experiment_dir)\n",
    "        \n",
    "        self.target_model = Brain(nS=self.nS, nA=self.nA, \n",
    "                                             scope=\"target_q\",\n",
    "                             learning_rate=self.learning_rate,\n",
    "                                 global_step=self.global_step)\n",
    "\n",
    "        # Adding an op to initialize the variables.\n",
    "        init_op = tf.global_variables_initializer()\n",
    "        \n",
    "        # Adding ops to save and restore all the variables.\n",
    "        self.saver = tf.train.Saver()\n",
    "\n",
    "        # Setting up the session\n",
    "        self.sess = tf.Session()\n",
    "        self.sess.run(init_op)\n",
    "        "
   ]
  },
  {
   "cell_type": "markdown",
   "metadata": {},
   "source": [
    "The epsilon dealing with the share of time devoted exploring new solutions compared to exploiting the knowledge of the network is constantly updated with the epsilon_update method, which simply modifies the actual epsilon by multiplying it by epsilon_decay unless it has already reached its allowed minimum value:"
   ]
  },
  {
   "cell_type": "code",
   "execution_count": null,
   "metadata": {},
   "outputs": [],
   "source": [
    "    def epsilon_update(self, t):\n",
    "        if self.epsilon > self.epsilon_min:\n",
    "            self.epsilon *= self.epsilon_decay"
   ]
  },
  {
   "cell_type": "markdown",
   "metadata": {},
   "source": [
    "    def save_weights(self, filename):\n",
    "        \"\"\"\n",
    "        Saving the weights of a model\n",
    "        \"\"\"\n",
    "        save_path = self.saver.save(self.sess, \n",
    "                                    \"%s.ckpt\" % filename)\n",
    "        print(\"Model saved in file: %s\" % save_path)\n",
    "def load_weights(self, filename):\n",
    "    \"\"\"\n",
    "    Restoring the weights of a model\n",
    "    \"\"\"\n",
    "    self.saver.restore(self.sess, \"%s.ckpt\" % filename)\n",
    "    print(\"Model restored from file\")"
   ]
  },
  {
   "cell_type": "markdown",
   "metadata": {},
   "source": [
    "The set_weights and  target_model_update methods work together to update the target Q network with the weights of the Q network (set_weights is a general-purpose, reusable function you can use in your solutions, too). \n",
    "\n",
    "Since we named the two scopes differently, it is easy to enumerate the variables of each network from the list of trainable variables. Once enumerated, the variables are joined in an assignment to be executed by the running session:"
   ]
  },
  {
   "cell_type": "code",
   "execution_count": null,
   "metadata": {},
   "outputs": [],
   "source": [
    "    def set_weights(self, model_1, model_2):\n",
    "        \"\"\"\n",
    "        Replicates the model parameters of one \n",
    "        estimator to another.\n",
    "        model_1: Estimator to copy the parameters from\n",
    "        model_2: Estimator to copy the parameters to\n",
    "        \"\"\"\n",
    "        # Enumerating and sorting the parameters \n",
    "        # of the two models\n",
    "        model_1_params = [t for t in tf.trainable_variables() \\\n",
    "                          if t.name.startswith(model_1.scope)]\n",
    "        model_2_params = [t for t in tf.trainable_variables() \\\n",
    "                         if t.name.startswith(model_2.scope)]\n",
    "        model_1_params = sorted(model_1_params, \n",
    "                                key=lambda x: x.name)\n",
    "        model_2_params = sorted(model_2_params, \n",
    "                                key=lambda x: x.name)\n",
    "        # Enumerating the operations to be done\n",
    "        operations = [coef_2.assign(coef_1) for coef_1, coef_2 \\\n",
    "                      in zip(model_1_params, model_2_params)]\n",
    "        # Executing the operations to be done\n",
    "        self.sess.run(operations)\n",
    "    def target_model_update(self):\n",
    "        \"\"\"\n",
    "        Setting the model weights to the target model's ones\n",
    "        \"\"\"\n",
    "        self.set_weights(self.model, self.target_model)"
   ]
  },
  {
   "cell_type": "markdown",
   "metadata": {},
   "source": [
    "The act method is the core of the policy implementation because it will decide, based on epsilon, whether to take a random move or go for the best possible one. \n",
    "\n",
    "If it is going for the best possible move, it will ask the trained Q network to provide a reward estimate for each of the possible next moves (represented in a binary way by pushing one of four buttons in the Lunar Lander game) and it will return the move characterized by the maximum predicted reward (a greedy approach to the solution):"
   ]
  },
  {
   "cell_type": "code",
   "execution_count": null,
   "metadata": {},
   "outputs": [],
   "source": [
    "    def act(self, s):\n",
    "        \"\"\"\n",
    "        Having the agent act based on learned Q* function\n",
    "        or by random choice (based on epsilon)\n",
    "        \"\"\"\n",
    "        # Based on epsilon predicting or randomly \n",
    "        # choosing the next action\n",
    "        if np.random.rand() <= self.epsilon:\n",
    "            return np.random.choice(self.nA)\n",
    "        else:\n",
    "            # Estimating q for all possible actions\n",
    "            q = self.model.predict(self.sess, s)[0]\n",
    "            # Returning the best action\n",
    "            best_action = np.argmax(q)\n",
    "            return best_action"
   ]
  },
  {
   "cell_type": "code",
   "execution_count": null,
   "metadata": {},
   "outputs": [],
   "source": [
    "Thereplay method completes the class. It is a crucial method because it makes learning for the DQN algorithm \n",
    "possible. We are going, therefore, to discuss how it works thoroughly. The first thing that the replay method \n",
    "does is to sample a batch (we defined the batch size at initialization) from the memories of previous game \n",
    "episodes (such memories are just the variables containing values about status, action, \n",
    "reward, next status, and a flag variable noticing if the observation is a final status or not). \n",
    "\n",
    "The random sampling allows the model to find the best coefficients in order to learn the Q function by \n",
    "a slow adjustment of the network's weights, batch after batch.\n",
    "\n",
    "Then the method finds out whether the sampling recalled statuses are final or not. Non-final rewards \n",
    "need to be updated in order to represent the reward that you get at the end of the game. \n",
    "This is done by using the target network, which represents a snapshot of the Q function \n",
    "network as fixed at the end of the previous learning. The target network is fed with the following status, \n",
    "and the resulting reward is summed, after being discounted by a gamma factor, with the present reward.\n"
   ]
  },
  {
   "cell_type": "code",
   "execution_count": null,
   "metadata": {},
   "outputs": [],
   "source": [
    "    def replay(self):\n",
    "        # Picking up a random batch from memory\n",
    "        batch = np.array(random.sample(\\\n",
    "                self.memory.recall_memories(), self.batch_size))\n",
    "        # Retrieving the sequence of present states\n",
    "        s = np.vstack(batch[:, 0])\n",
    "        # Recalling the sequence of actions\n",
    "        a = np.array(batch[:, 1], dtype=int)\n",
    "        # Recalling the rewards\n",
    "        r = np.copy(batch[:, 2])\n",
    "        # Recalling the sequence of resulting states\n",
    "        s_p = np.vstack(batch[:, 3])\n",
    "        # Checking if the reward is relative to \n",
    "        # a not terminal state\n",
    "        status = np.where(batch[:, 4] == False)\n",
    "        # We use the model to predict the rewards by \n",
    "        # our model and the target model\n",
    "        next_reward = self.model.predict(self.sess, s_p)\n",
    "        final_reward = self.target_model.predict(self.sess, s_p)\n",
    "\n",
    "        if len(status[0]) > 0:\n",
    "            # Non-terminal update rule using the target model\n",
    "            # If a reward is not from a terminal state, \n",
    "            # the reward is just a partial one (r0)\n",
    "            # We should add the remaining and obtain a \n",
    "            # final reward using target predictions\n",
    "            best_next_action = np.argmax(\\\n",
    "                             next_reward[status, :][0], axis=1)\n",
    "            # adding the discounted final reward\n",
    "            r[status] += np.multiply(self.gamma,\n",
    "                     final_reward[status, best_next_action][0])\n",
    "\n",
    "        # We replace the expected rewards for actions \n",
    "        # when dealing with observed actions and rewards\n",
    "        expected_reward = self.model.predict(self.sess, s)\n",
    "        expected_reward[range(self.batch_size), a] = r\n",
    "\n",
    "        # We re-fit status against predicted/observed rewards\n",
    "        self.model.fit(self.sess, s, expected_reward,\n",
    "                       epochs=self.epochs)"
   ]
  },
  {
   "cell_type": "markdown",
   "metadata": {},
   "source": [
    "# Specifying the environment\n",
    "\n",
    "The last class to be implemented is the Environment class. Actually, the environment is provided by the gym command, though you need a good wrapper around it in order to have it work with the previous agent class. That's exactly what this class does. At initialization, it starts the Lunar Lander game and sets key variables such as nS, nA (dimensions of state and action), agent, and the cumulative reward (useful for testing the solution by providing an average of the last 100 episodes):\n"
   ]
  },
  {
   "cell_type": "code",
   "execution_count": null,
   "metadata": {},
   "outputs": [],
   "source": [
    "class Environment:\n",
    "    def __init__(self, game=\"LunarLander-v2\"):\n",
    "        # Initializing\n",
    "        np.set_printoptions(precision=2)\n",
    "        self.env = gym.make(game)\n",
    "        self.env = wrappers.Monitor(self.env, tempfile.mkdtemp(), \n",
    "                               force=True, video_callable=False)\n",
    "        self.nS = self.env.observation_space.shape[0]\n",
    "        self.nA = self.env.action_space.n\n",
    "        self.agent = Agent(self.nS, self.nA, self.env.spec.id)\n",
    "\n",
    "        # Cumulative reward\n",
    "        self.reward_avg = deque(maxlen=100)"
   ]
  },
  {
   "cell_type": "markdown",
   "metadata": {},
   "source": [
    "# NOTE \n",
    "\n",
    "Using incremental training is a bit tricky and it requires some attention if you do not want to spoil the \n",
    "results you have obtained with your training so far. The trouble is that when we restart the brain has \n",
    "pre-trained coefficients but memory is actually empty (we can call this as a cold restart). \n",
    "\n",
    "Being the memory of the agent empty, it cannot support good learning because of too few and limited examples. \n",
    "\n",
    "Consequently, the quality of the examples being fed is really not perfect for learning \n",
    "(the examples are mostly correlated with each other and very specific to the few newly experienced episodes). \n",
    "\n",
    "The risk of ruining the training can be mitigated using a very low epsilon (we suggest set at the minimum, 0.01 ):\n",
    "in this way, the network  will most of the time simply re-learn its own weights because it will suggest \n",
    "for each state the actions it already knows, and its performance shouldnt worsen but oscillate in a stable \n",
    "way until there are enough examples in memory and it will start improving again.\n",
    "\n"
   ]
  },
  {
   "cell_type": "markdown",
   "metadata": {},
   "source": [
    "Here is the code for issuing the correct methods for training and testing:"
   ]
  },
  {
   "cell_type": "code",
   "execution_count": null,
   "metadata": {},
   "outputs": [],
   "source": [
    "    def test(self):\n",
    "        self.learn(epsilon=0.0, episodes=100, \n",
    "                        trainable=False, incremental=False)\n",
    "\n",
    "    def train(self, epsilon=1.0, episodes=1000):\n",
    "        self.learn(epsilon=epsilon, episodes=episodes, \n",
    "                        trainable=True, incremental=False)\n",
    "\n",
    "    def incremental(self, epsilon=0.01, episodes=100):\n",
    "        self.learn(epsilon=epsilon, episodes=episodes, \n",
    "                        trainable=True, incremental=True)"
   ]
  },
  {
   "cell_type": "markdown",
   "metadata": {},
   "source": [
    "The final method islearn, arranging all the steps for the agent to interact with and learn from the environment. The method takes the epsilon value (thus overriding any previous epsilon value the agent had), the number of episodes to run in the environment, whether it is being trained or not (a Boolean flag), and whether the training is continuing from the training of a previous model (another Boolean flag).\n",
    "\n",
    "In the first block of code, the method loads the previously trained weights of the network for Q value approximation if we want:\n",
    "\n",
    "    1.- to test the network and see how it works;\n",
    "    2.- to carry on some previous training using further examples.\n",
    "\n",
    "Then the method delves into a nested iteration. The outside iteration is running through the required number of episodes (each episode a Lunar Lander game has taken to its conclusion). Whereas the inner iteration is instead running through a maximum of 1,000 steps making up an episode.\n",
    "\n",
    "At each time step in the iteration, the neural network is interrogated on the next move. If it is under test, it will always simply provide the answer about the next best move. If it is under training, there is some chance, depending on the value of epsilon, that it won't suggest the best move but it will instead propose making a random move"
   ]
  },
  {
   "cell_type": "code",
   "execution_count": null,
   "metadata": {},
   "outputs": [],
   "source": [
    "    def learn(self, epsilon=None, episodes=1000, \n",
    "              trainable=True, incremental=False):\n",
    "        \"\"\"\n",
    "        Representing the interaction between the enviroment \n",
    "        and the learning agent\n",
    "        \"\"\"\n",
    "        # Restoring weights if required\n",
    "        if not trainable or (trainable and incremental):\n",
    "            try:\n",
    "                print(\"Loading weights\")\n",
    "                self.agent.load_weights('./weights.h5')\n",
    "            except:\n",
    "                print(\"Exception\")\n",
    "                trainable = True\n",
    "                incremental = False\n",
    "                epsilon = 1.0\n",
    "\n",
    "        # Setting epsilon\n",
    "        self.agent.epsilon = epsilon\n",
    "        # Iterating through episodes\n",
    "        for episode in range(episodes):\n",
    "            # Initializing a new episode\n",
    "            episode_reward = 0\n",
    "            s = self.env.reset()\n",
    "            # s is put at default values\n",
    "            s = np.reshape(s, [1, self.nS])\n",
    "\n",
    "            # Iterating through time frames\n",
    "            for time_frame in range(1000):\n",
    "                if not trainable:\n",
    "                    # If not learning, representing \n",
    "                    # the agent on video\n",
    "                    self.env.render()\n",
    "                # Deciding on the next action to take\n",
    "                a = self.agent.act(s)\n",
    "                # Performing the action and getting feedback\n",
    "                s_p, r, status, info = self.env.step(a)\n",
    "                s_p = np.reshape(s_p, [1, self.nS])\n",
    "\n",
    "                # Adding the reward to the cumulative reward\n",
    "                episode_reward += r\n",
    "\n",
    "                # Adding the overall experience to memory\n",
    "                if trainable:\n",
    "                    self.agent.memory.add_memory(s, a, r, s_p,\n",
    "                                                 status)\n",
    "\n",
    "                # Setting the new state as the current one\n",
    "                s = s_p\n",
    "\n",
    "                # Performing experience replay if memory length \n",
    "                # is greater than the batch length\n",
    "                if trainable:\n",
    "                    if len(self.agent.memory) > \\\n",
    "                           self.agent.batch_size:\n",
    "                        self.agent.replay()\n",
    "\n",
    "                # When the episode is completed, \n",
    "                # exiting this loop\n",
    "                if status:\n",
    "                    if trainable:\n",
    "                       self.agent.target_model_update()\n",
    "                    break\n",
    "\n",
    "            # Exploration vs exploitation\n",
    "            self.agent.epsilon_update(episode)\n",
    "\n",
    "            # Running an average of the past 100 episodes\n",
    "            self.reward_avg.append(episode_reward)\n",
    "            print(\"episode: %i score: %.2f avg_score: %.2f\"\n",
    "                  \"actions %i epsilon %.2f\" % (episode,\n",
    "                                        episode_reward,\n",
    "                           np.average(self.reward_avg),\n",
    "                                            time_frame,\n",
    "                                               epsilon)\n",
    "        self.env.close()\n",
    "\n",
    "        if trainable:\n",
    "            # Saving the weights for the future\n",
    "            self.agent.save_weights('./weights.h5')"
   ]
  },
  {
   "cell_type": "markdown",
   "metadata": {},
   "source": [
    "After the move, all the information is gathered (initial state, chosen action, obtained reward, and consequent state) and saved into memory. At this time frame, if the memory is large enough to create a batch for the neural network approximating the Q function, then a training session is run. When all the time frames of the episode have been consumed, the weights of the DQN get stored into another network to be used as a stable reference as the DQN network is learning from a new episode.\n"
   ]
  },
  {
   "cell_type": "markdown",
   "metadata": {},
   "source": [
    "# Running the reinforcement learning process\n",
    "\n",
    "Finally, after all the digression on reinforcement learning and DQN and writing down the complete code for the project, you can run it using a script or a Jupyter Notebook, leveraging the Environment class that puts all the code functionalities together:\n",
    "\n"
   ]
  },
  {
   "cell_type": "code",
   "execution_count": null,
   "metadata": {},
   "outputs": [],
   "source": [
    "lunar_lander = Environment(game=\"LunarLander-v2\")"
   ]
  },
  {
   "cell_type": "markdown",
   "metadata": {},
   "source": [
    "After instantiating it, you just have to run the train, starting from epsilon=1.0 and setting the goal to 5000 episodes (which corresponds to about 2.2 million examples of chained variables of state, action and reward). The actual code we provided is set to successfully accomplish a fully trained DQN model, though it may take some time, given your GPU's availability and its computing capabilities:"
   ]
  },
  {
   "cell_type": "code",
   "execution_count": null,
   "metadata": {},
   "outputs": [],
   "source": [
    "lunar_lander.train(epsilon=1.0, episodes=5000)"
   ]
  },
  {
   "cell_type": "markdown",
   "metadata": {},
   "source": [
    "In the end, the class will complete the required training, leaving a saved model on disk (which could be run or even reprised anytime). You can even inspect the TensorBoard using a simple command that can be run from a shell:"
   ]
  },
  {
   "cell_type": "code",
   "execution_count": null,
   "metadata": {},
   "outputs": [],
   "source": [
    "tensorboard --logdir=./experiments --port 6006"
   ]
  },
  {
   "cell_type": "markdown",
   "metadata": {},
   "source": [
    "The plots will appear on your browser, and they will be available for inspection at the local address localhost:6006:"
   ]
  },
  {
   "attachments": {
    "image.png": {
     "image/png": "[encoded data removed]"
    }
   },
   "cell_type": "raw",
   "metadata": {},
   "source": [
    "![image.png](attachment:image.png)"
   ]
  }
 ],
 "metadata": {
  "kernelspec": {
   "display_name": "Python 3",
   "language": "python",
   "name": "python3"
  },
  "language_info": {
   "codemirror_mode": {
    "name": "ipython",
    "version": 3
   },
   "file_extension": ".py",
   "mimetype": "text/x-python",
   "name": "python",
   "nbconvert_exporter": "python",
   "pygments_lexer": "ipython3",
   "version": "3.7.3"
  }
 },
 "nbformat": 4,
 "nbformat_minor": 2
}
